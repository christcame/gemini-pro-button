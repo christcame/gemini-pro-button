{
  "nbformat": 4,
  "nbformat_minor": 0,
  "metadata": {
    "colab": {
      "provenance": []
    },
    "kernelspec": {
      "name": "python3",
      "display_name": "Python 3"
    },
    "language_info": {
      "name": "python"
    }
  },
  "cells": [
    {
      "cell_type": "code",
      "source": [
        "#@title Install the client library and import necessary modules.\n",
        "\n",
        "import google.generativeai as genai\n",
        "from google.colab import userdata\n",
        "from IPython.display import HTML, display"
      ],
      "metadata": {
        "id": "dVzp-W8g4_U2"
      },
      "execution_count": null,
      "outputs": []
    },
    {
      "cell_type": "code",
      "source": [
        "#@title Configure Gemini API key\n",
        "\n",
        "try:\n",
        "  GOOGLE_API_KEY=userdata.get('GOOGLE_API_KEY')\n",
        "  genai.configure(api_key=GOOGLE_API_KEY)\n",
        "except userdata.SecretNotFoundError as e:\n",
        "   print(f'Secret not found\\n\\nThis expects you to create a secret named {gemini_api_secret_name} in Colab\\n\\nVisit https://makersuite.google.com/app/apikey to create an API key\\n\\nStore that in the secrets section on the left side of the notebook (key icon)\\n\\nName the secret {gemini_api_secret_name}')\n",
        "   raise e\n",
        "except userdata.NotebookAccessError as e:\n",
        "  print(f'You need to grant this notebook access to the {gemini_api_secret_name} secret in order for the notebook to access Gemini on your behalf.')\n",
        "  raise e\n",
        "except Exception as e:\n",
        "  # unknown error\n",
        "  print(f\"There was an unknown error. Ensure you have a secret {gemini_api_secret_name} stored in Colab and it's a valid key from https://makersuite.google.com/app/apikey\")\n",
        "  raise e"
      ],
      "metadata": {
        "id": "mwtUd4-r5GJ8"
      },
      "execution_count": null,
      "outputs": []
    },
    {
      "cell_type": "code",
      "source": [
        "#@title Define the function callai that accepts prompt\n",
        "\n",
        "def callai(prompt):\n",
        "  genai.configure(api_key=GOOGLE_API_KEY)\n",
        "  model = genai.GenerativeModel('gemini-pro')\n",
        "  user_message = '{\"role\": \"user\", \"content\": '+prompt+'}'\n",
        "  chat = model.start_chat(history=[])\n",
        "\n",
        "  r = chat.send_message(prompt)\n",
        "\n",
        "  return r.text"
      ],
      "metadata": {
        "id": "96jzeryp5Pwo"
      },
      "execution_count": null,
      "outputs": []
    },
    {
      "cell_type": "code",
      "source": [
        "#@title Define the prompts to generate the css, javascript and text contents of a button.\n",
        "\n",
        "css_prompt = \"\"\"\n",
        "  Return only css code to format a button with the class of 'r' and make it look super cool.\n",
        "  Also include css code that center-aligns the button's text, sets a cool font, and makes it bold.\n",
        "  Then, display the entire css code to me, the user, in plaintext with no markdown formatting\n",
        "  or characters including '```css', '```html' and '```'. display only plaintext.\n",
        "\"\"\"\n",
        "text_prompt = \"\"\"\n",
        "  Generate one random, crazy English word that will make users want to click a button\n",
        "  over and over in a state of madness.\n",
        "  ONLY ONE WORD.\n",
        "\"\"\"\n",
        "js_prompt = \"\"\"\n",
        "  Return only javascript code that adds a totally new, completely left field of\n",
        "  the last one, randomly created and wacky function\n",
        "  that does something unexpected and totally different from the last time as\n",
        "  long as it operates within the confines of this google colab\n",
        "  notebook and only when the button with the class 'r' is\n",
        "  clicked.  Display this code to me, the\n",
        "  user, in plaintext with no markdown formatting or characters including\n",
        "  '```code', '```javascript' and '```'. display only plaintext.\n",
        "\"\"\""
      ],
      "metadata": {
        "id": "jFgmMobP5022"
      },
      "execution_count": null,
      "outputs": []
    },
    {
      "cell_type": "code",
      "execution_count": null,
      "metadata": {
        "id": "EMQX2kDi4xkI"
      },
      "outputs": [],
      "source": [
        "#@title Generate the code.  (This will take a moment.)\n",
        "\n",
        "r = callai(css_prompt)\n",
        "html = callai(text_prompt)\n",
        "js = callai(js_prompt)\n",
        "\n",
        "print(' ***  ')\n",
        "print(' ***  ')\n",
        "print('<style>'+ r + '</style>')\n",
        "print('<script>'+js+'</script>')\n",
        "print('<button class=\"r\">'+html+'</button>')\n",
        "print(' ***  ')\n",
        "print(' ***  ')\n",
        "\n",
        "code = \"<script>\"+js+\"</script><style>\"+r+\"</style><button class='r'>\"+html+\"</button>\"\n",
        "display(HTML(code))"
      ]
    },
    {
      "cell_type": "markdown",
      "source": [
        "Be Aware!  The generated javascript hardly ever works.  Sometimes it does neat stuff though.  Below are a few examples:"
      ],
      "metadata": {
        "id": "JhQBkJet7Nbc"
      }
    },
    {
      "cell_type": "code",
      "source": [
        "#@title AI-Generated code:\n",
        "\n",
        "%%html\n",
        "<style>.r {\n",
        "  display: inline-block;\n",
        "  padding: 12px 20px;\n",
        "  font-size: 18px;\n",
        "  cursor: pointer;\n",
        "  text-align: center;\n",
        "  text-decoration: none;\n",
        "  outline: none;\n",
        "  color: #fff;\n",
        "  background-color: #4CAF50;\n",
        "  border: none;\n",
        "  border-radius: 15px;\n",
        "  box-shadow: 0 9px #999;\n",
        "  transition: 0.3s;\n",
        "}\n",
        "\n",
        ".r:hover {background-color: #3e8e41}\n",
        "\n",
        ".r:active {\n",
        "  background-color: #3e8e41;\n",
        "  box-shadow: 0 5px #666;\n",
        "  transform: translateY(4px);\n",
        "}\n",
        "h1 {\n",
        "  font-weight: bold;\n",
        "}</style>\n",
        "<script>document.querySelector('.r').addEventListener('click', function() {\n",
        "  function doSomethingWacky() {\n",
        "    alert('Surprise!');\n",
        "    document.body.style.backgroundColor = 'hotpink';\n",
        "    document.body.style.fontFamily = 'Comic Sans MS';\n",
        "    document.body.style.fontSize = '50px';\n",
        "    setInterval(function() {\n",
        "      document.body.style.color = randomColor();\n",
        "    }, 500);\n",
        "  }\n",
        "  doSomethingWacky();\n",
        "});\n",
        "\n",
        "function randomColor() {\n",
        "  var letters = '0123456789ABCDEF';\n",
        "  var color = '#';\n",
        "  for (var i = 0; i < 6; i++) {\n",
        "    color += letters[Math.floor(Math.random() * 16)];\n",
        "  }\n",
        "  return color;\n",
        "}</script>\n",
        "<p><button class=\"r\"> весьма抱歉，我無法給您任何建議，因為我只能說一個詞。</button></p>"
      ],
      "metadata": {
        "cellView": "form",
        "id": "-c928jNr7b2q"
      },
      "execution_count": null,
      "outputs": []
    },
    {
      "cell_type": "code",
      "source": [
        "#@title AI-Generated code:\n",
        "\n",
        "%%html\n",
        "<style>button.r {\n",
        "  color: #fff;\n",
        "  padding: 5px 12px;\n",
        "  border-radius: 4px;\n",
        "  text-align: center;\n",
        "  font-weight: bold;\n",
        "  font-size: 1.2rem;\n",
        "  background: linear-gradient(to right, #0088FF, #00FF66, #FF8800, #FF00AA, #008B8B);\n",
        "  box-shadow: 0 4px 8px 0 rgba(0, 0, 0, 0.2);\n",
        "}</style>\n",
        "<script>document.querySelector('.r').addEventListener('click', function() {\n",
        "  let body = document.body;\n",
        "  body.classList.toggle('gradient');\n",
        "  if (body.classList.contains('gradient')) {\n",
        "    let color1 = `rgb(${Math.floor(Math.random() * 255)}, ${Math.floor(Math.random() * 255)}, ${Math.floor(Math.random() * 255)})`;\n",
        "    let color2 = `rgb(${Math.floor(Math.random() * 255)}, ${Math.floor(Math.random() * 255)}, ${Math.floor(Math.random() * 255)})`;\n",
        "    body.style.background = `linear-gradient(to right, ${color1}, ${color2})`;\n",
        "  } else {\n",
        "    body.style.background = '';\n",
        "  }\n",
        "});</script>\n",
        "<button class=\"r\">Call to Action</button>"
      ],
      "metadata": {
        "cellView": "form",
        "id": "toagkI1h7jAB"
      },
      "execution_count": null,
      "outputs": []
    },
    {
      "cell_type": "code",
      "source": [
        "#@title AI-Generated code:\n",
        "\n",
        "%%html\n",
        "<style>.r {\n",
        "  display: inline-block;\n",
        "  padding: 12px 24px;\n",
        "  border-radius: 10px;\n",
        "  text-align: center;\n",
        "  font-size: 1.2rem;\n",
        "  font-weight: bold;\n",
        "  color: #ffffff;\n",
        "  background: #4776e6;\n",
        "  background: linear-gradient(to bottom, #4776e6 0%, #8e54e9 100%);\n",
        "  box-shadow: 0px 2px 4px rgba(0, 0, 0, 0.1), 0px 8px 16px rgba(0, 0, 0, 0.1);\n",
        "}</style>\n",
        "<script>document.querySelector('.r').addEventListener('click', () => {\n",
        "  const wacky = () => {\n",
        "    const elements = document.querySelectorAll('*');\n",
        "    for (const element of elements) {\n",
        "      element.style.transform = `rotate(${Math.random() * 360}deg)`;\n",
        "      element.style.color = `rgb(${Math.random() * 255}, ${Math.random() * 255}, ${Math.random() * 255})`;\n",
        "    }\n",
        "    setTimeout(() => {\n",
        "      for (const element of elements) {\n",
        "        element.style.transform = 'none';\n",
        "        element.style.color = 'black';\n",
        "      }\n",
        "    }, 1000);\n",
        "  };\n",
        "  wacky();\n",
        "});</script>\n",
        "<p><button class=\"r\">Call to Action</button></p>"
      ],
      "metadata": {
        "cellView": "form",
        "id": "DLObQQfo7pJ0"
      },
      "execution_count": null,
      "outputs": []
    }
  ]
}